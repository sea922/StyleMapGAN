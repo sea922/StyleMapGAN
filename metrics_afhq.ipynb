{
  "nbformat": 4,
  "nbformat_minor": 0,
  "metadata": {
    "colab": {
      "provenance": []
    },
    "kernelspec": {
      "name": "python3",
      "display_name": "Python 3"
    },
    "language_info": {
      "name": "python"
    },
    "accelerator": "GPU"
  },
  "cells": [
    {
      "cell_type": "code",
      "metadata": {
        "colab": {
          "base_uri": "https://localhost:8080/"
        },
        "id": "3cc9hcVi5u5_",
        "outputId": "e723e436-f475-4ffe-b9b1-b5c49832db7d"
      },
      "source": [
        "# clone project and download dependences\n",
        "!pip install --upgrade --no-cache-dir gdown\n",
        "from IPython.display import clear_output\n",
        "!git clone https://github.com/siidev/StyleMapGAN.git\n",
        "%cd StyleMapGAN/\n",
        "!pip install ninja\n",
        "!pip install flask-ngrok\n",
        "!pip install scikit-image==0.16.2\n",
        "clear_output()\n",
        "print('Done!')"
      ],
      "execution_count": null,
      "outputs": [
        {
          "output_type": "stream",
          "name": "stdout",
          "text": [
            "Done!\n"
          ]
        }
      ]
    },
    {
      "cell_type": "code",
      "metadata": {
        "colab": {
          "base_uri": "https://localhost:8080/"
        },
        "id": "iAIS-iYp6bOZ",
        "outputId": "c806c242-e185-4de3-eed7-feee6143c155"
      },
      "source": [
        "!gdown --id 1-1IdZ4riYa-lSIw2FT13cOXDkTF84BbW\n",
        "!unzip afhq.zip"
      ],
      "execution_count": null,
      "outputs": [
        {
          "output_type": "stream",
          "name": "stdout",
          "text": [
            "/usr/local/lib/python3.7/dist-packages/gdown/cli.py:131: FutureWarning: Option `--id` was deprecated in version 4.3.1 and will be removed in 5.0. You don't need to pass it anymore to use a file ID.\n",
            "  category=FutureWarning,\n",
            "Downloading...\n",
            "From: https://drive.google.com/uc?id=1-1IdZ4riYa-lSIw2FT13cOXDkTF84BbW\n",
            "To: /content/StyleMapGAN/afhq.zip\n",
            "100% 824M/824M [00:06<00:00, 128MB/s]\n",
            "Archive:  afhq.zip\n",
            "   creating: lmdb-data/afhq/\n",
            "   creating: lmdb-data/afhq/test/\n",
            "  inflating: lmdb-data/afhq/test/data.mdb  \n",
            "  inflating: lmdb-data/afhq/test/lock.mdb  \n",
            "   creating: lmdb-data/afhq/val/\n",
            "  inflating: lmdb-data/afhq/val/data.mdb  \n",
            "  inflating: lmdb-data/afhq/val/lock.mdb  \n",
            "   creating: lmdb-data/afhq/train/\n",
            "  inflating: lmdb-data/afhq/train/data.mdb  \n",
            "  inflating: lmdb-data/afhq/train/lock.mdb  \n"
          ]
        }
      ]
    },
    {
      "cell_type": "markdown",
      "metadata": {
        "id": "4af5ZfxW6GkW"
      },
      "source": [
        "Read https://github.com/naver-ai/StyleMapGAN/blob/main/metrics/README.md"
      ]
    },
    {
      "cell_type": "code",
      "metadata": {
        "colab": {
          "base_uri": "https://localhost:8080/"
        },
        "id": "PfavwRleA9_0",
        "outputId": "3ecb0bc2-04ea-43dd-fc94-610dd648942e"
      },
      "source": [
        "# prepare fid\n",
        "import gdown\n",
        "import os\n",
        "\n",
        "url = 'https://drive.google.com/uc?id=1pCr4lNCON7IZcNVdskIDXhFJ3jYuge1w' # inception checkpoint\n",
        "output = 'metrics/pt_inception-2015-12-05-6726825d.pth'\n",
        "gdown.download(url, output, quiet=False)\n",
        "\n",
        "url = 'https://drive.google.com/uc?id=1dMHaNkgIy_-cq70f6nqoQsfG9-aOTpSC' # random generated samples as pickle files\n",
        "output = 'fid_stats.zip'\n",
        "gdown.download(url, output, quiet=False)\n",
        "!unzip fid_stats.zip"
      ],
      "execution_count": null,
      "outputs": [
        {
          "output_type": "stream",
          "name": "stderr",
          "text": [
            "Downloading...\n",
            "From: https://drive.google.com/uc?id=1pCr4lNCON7IZcNVdskIDXhFJ3jYuge1w\n",
            "To: /content/StyleMapGAN/metrics/pt_inception-2015-12-05-6726825d.pth\n",
            "100%|██████████| 95.6M/95.6M [00:00<00:00, 125MB/s]\n",
            "Downloading...\n",
            "From: https://drive.google.com/uc?id=1dMHaNkgIy_-cq70f6nqoQsfG9-aOTpSC\n",
            "To: /content/StyleMapGAN/fid_stats.zip\n",
            "100%|██████████| 96.3M/96.3M [00:01<00:00, 57.8MB/s]\n"
          ]
        },
        {
          "output_type": "stream",
          "name": "stdout",
          "text": [
            "Archive:  fid_stats.zip\n",
            "   creating: metrics/fid_stats/\n",
            "  inflating: metrics/fid_stats/celeba_hq_stats_256_29000.pkl  \n",
            "  inflating: metrics/fid_stats/afhq_stats_256_15130.pkl  \n",
            "  inflating: metrics/fid_stats/vn_celeb_stats_128_22105.pkl  \n"
          ]
        }
      ]
    },
    {
      "cell_type": "code",
      "metadata": {
        "id": "6JRR3pIi4-4Y",
        "colab": {
          "base_uri": "https://localhost:8080/"
        },
        "outputId": "c68f5f48-8ed9-4450-a303-eb786e6ff031"
      },
      "source": [
        "# download checkpoint\n",
        "checkpoint = '500000.pt'\n",
        "!gdown --id 1jEGb4WT9DmQM5Ec07vTVr5vrL88mMj8v"
      ],
      "execution_count": null,
      "outputs": [
        {
          "output_type": "stream",
          "name": "stdout",
          "text": [
            "/usr/local/lib/python3.7/dist-packages/gdown/cli.py:131: FutureWarning: Option `--id` was deprecated in version 4.3.1 and will be removed in 5.0. You don't need to pass it anymore to use a file ID.\n",
            "  category=FutureWarning,\n",
            "Downloading...\n",
            "From: https://drive.google.com/uc?id=1jEGb4WT9DmQM5Ec07vTVr5vrL88mMj8v\n",
            "To: /content/StyleMapGAN/500000.pt\n",
            "100% 1.05G/1.05G [00:08<00:00, 127MB/s] \n"
          ]
        }
      ]
    },
    {
      "cell_type": "code",
      "metadata": {
        "colab": {
          "base_uri": "https://localhost:8080/"
        },
        "id": "QJffF_9JXQcJ",
        "outputId": "63a7e5c4-bf9f-4a9f-a13e-caa4fd7fec10"
      },
      "source": [
        "# Reconstruction\n",
        "!python generate.py --ckpt {checkpoint} --mixing_type reconstruction --test_lmdb lmdb-data/afhq/test\n",
        "!python -m metrics.reconstruction --image_folder_path expr/reconstruction/afhq"
      ],
      "execution_count": null,
      "outputs": [
        {
          "output_type": "stream",
          "name": "stdout",
          "text": [
            "Namespace(batch=16, batch_per_gpu=4, channel_multiplier=2, ckpt='408000.pt', d_reg_every=16, dataset='afhq', iter=1400000, lambda_adv_loss=1, lambda_d_loss=1, lambda_indomainGAN_D_loss=1, lambda_indomainGAN_E_loss=1, lambda_perceptual_loss=1, lambda_w_rec_loss=1, lambda_x_rec_loss=1, latent_channel_size=64, latent_spatial_size=8, local_editing_part=None, lr=0.002, lr_mul=0.01, mapping_layer_num=8, mixing_type='reconstruction', ngpus=1, normalize_mode='LayerNorm', num_workers=10, r1=10, save_image_dir='expr', save_network_interval=2000, size=256, small_generator=True, start_iter=396000, test_lmdb='lmdb-data/afhq/test', train_data='lmdb-data/afhq/train', val_data='lmdb-data/afhq/val')\n",
            "/usr/local/lib/python3.7/dist-packages/torch/utils/data/dataloader.py:481: UserWarning: This DataLoader will create 10 worker processes in total. Our suggested max number of worker in current system is 2, which is smaller than what this DataLoader is going to create. Please be aware that excessive worker creation might get DataLoader running slow or even freeze, lower the worker number to avoid potential slowness/freeze if necessary.\n",
            "  cpuset_checked))\n",
            "  0% 0/32 [00:00<?, ?it/s]/usr/local/lib/python3.7/dist-packages/torchvision/utils.py:50: UserWarning: range will be deprecated, please use value_range instead.\n",
            "  warnings.warn(warning)\n",
            "100% 32/32 [02:42<00:00,  5.08s/it]\n",
            "Total reconstruction time: 1.5287773609161377\n",
            "/usr/local/lib/python3.7/dist-packages/torch/nn/_reduction.py:42: UserWarning: size_average and reduce args will be deprecated, please use reduction='mean' instead.\n",
            "  warnings.warn(warning.format(ret))\n",
            "Setting up Perceptual loss...\n",
            "Downloading: \"https://download.pytorch.org/models/vgg16-397923af.pth\" to /root/.cache/torch/hub/checkpoints/vgg16-397923af.pth\n",
            "100% 528M/528M [00:06<00:00, 86.1MB/s]\n",
            "Loading model from: /content/StyleMapGAN/training/lpips/weights/v0.1/vgg.pth\n",
            "...[net-lin [vgg]] initialized\n",
            "...Done\n",
            "expr/reconstruction/afhq\n",
            "500 500\n",
            "Mean MSE: 0.05049774909764528\n",
            "Mean LPIPS: 0.3418236124813557\n"
          ]
        }
      ]
    },
    {
      "cell_type": "code",
      "metadata": {
        "colab": {
          "base_uri": "https://localhost:8080/"
        },
        "id": "BkNsp_OsXWZW",
        "outputId": "34138d61-95d2-4f17-eac0-4967a6133d68"
      },
      "source": [
        "# FID\n",
        "!python -m metrics.fid --ckpt {checkpoint} --comparative_fid_pkl metrics/fid_stats/afhq_stats_256_15130.pkl --dataset afhq --size 256"
      ],
      "execution_count": null,
      "outputs": [
        {
          "output_type": "stream",
          "name": "stdout",
          "text": [
            "/usr/local/lib/python3.7/dist-packages/torchvision/models/inception.py:83: FutureWarning: The default weight initialization of inception_v3 will be changed in future releases of torchvision. If you wish to keep the old behavior (which leads to long initialization times due to scipy/scipy#11299), please set init_weights=True.\n",
            "  ' due to scipy/scipy#11299), please set init_weights=True.', FutureWarning)\n",
            "  0% 0/946 [00:00<?, ?it/s]/usr/local/lib/python3.7/dist-packages/torch/nn/functional.py:3635: UserWarning: Default upsampling behavior when mode=bilinear is changed to align_corners=False since 0.4.0. Please specify align_corners=True if the old behavior is desired. See the documentation of nn.Upsample for details.\n",
            "  \"See the documentation of nn.Upsample for details.\".format(mode)\n",
            "100% 946/946 [39:56<00:00,  2.53s/it]\n",
            "extracted 15130 features\n",
            "fid: 10.427992644068127\n"
          ]
        }
      ]
    },
    {
      "cell_type": "code",
      "metadata": {
        "id": "cvn9mSWhXv4Z",
        "colab": {
          "base_uri": "https://localhost:8080/"
        },
        "outputId": "f96759af-29de-42fb-9538-ddc1349f2299"
      },
      "source": [
        "# Local editing\n",
        "!python generate.py --mixing_type local_editing --ckpt {checkpoint} --test_lmdb lmdb-data/afhq/test\n",
        "!python -m metrics.local_editing --data_dir expr/local_editing/afhq"
      ],
      "execution_count": null,
      "outputs": [
        {
          "output_type": "stream",
          "name": "stdout",
          "text": [
            "Namespace(batch=16, batch_per_gpu=4, channel_multiplier=2, ckpt='500000.pt', d_reg_every=16, dataset='afhq', iter=1400000, lambda_adv_loss=1, lambda_d_loss=1, lambda_indomainGAN_D_loss=1, lambda_indomainGAN_E_loss=1, lambda_perceptual_loss=1, lambda_w_rec_loss=1, lambda_x_rec_loss=1, latent_channel_size=64, latent_spatial_size=8, local_editing_part=None, lr=0.002, lr_mul=0.01, mapping_layer_num=8, mixing_type='local_editing', ngpus=1, normalize_mode='LayerNorm', num_workers=10, r1=10, save_image_dir='expr', save_network_interval=2000, size=256, small_generator=True, start_iter=498000, test_lmdb='lmdb-data/afhq/test', train_data='lmdb-data/afhq/train', val_data='lmdb-data/afhq/val')\n",
            "/usr/local/lib/python3.7/dist-packages/torch/utils/data/dataloader.py:481: UserWarning: This DataLoader will create 10 worker processes in total. Our suggested max number of worker in current system is 2, which is smaller than what this DataLoader is going to create. Please be aware that excessive worker creation might get DataLoader running slow or even freeze, lower the worker number to avoid potential slowness/freeze if necessary.\n",
            "  cpuset_checked))\n",
            "100% 32/32 [00:54<00:00,  1.71s/it]\n",
            "  0% 0/500 [00:00<?, ?it/s]/usr/local/lib/python3.7/dist-packages/torchvision/utils.py:50: UserWarning: range will be deprecated, please use value_range instead.\n",
            "  warnings.warn(warning)\n",
            " 50% 250/500 [03:41<03:41,  1.13it/s]\n",
            "parts ['']\n",
            "\n",
            "/usr/local/lib/python3.7/dist-packages/torch/utils/data/dataloader.py:481: UserWarning: This DataLoader will create 10 worker processes in total. Our suggested max number of worker in current system is 2, which is smaller than what this DataLoader is going to create. Please be aware that excessive worker creation might get DataLoader running slow or even freeze, lower the worker number to avoid potential slowness/freeze if necessary.\n",
            "  cpuset_checked))\n",
            "100% 63/63 [00:06<00:00,  9.90it/s]\n",
            "0.064, 0.063\n",
            "average in inMSE_ref, outMSE_src\n",
            "0.064, 0.063\n"
          ]
        }
      ]
    },
    {
      "cell_type": "code",
      "source": [],
      "metadata": {
        "id": "4LzNWmQudZCI"
      },
      "execution_count": null,
      "outputs": []
    }
  ]
}