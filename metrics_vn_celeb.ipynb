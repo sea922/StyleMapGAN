{
  "nbformat": 4,
  "nbformat_minor": 0,
  "metadata": {
    "colab": {
      "provenance": []
    },
    "kernelspec": {
      "name": "python3",
      "display_name": "Python 3"
    },
    "language_info": {
      "name": "python"
    },
    "accelerator": "GPU"
  },
  "cells": [
    {
      "cell_type": "code",
      "metadata": {
        "colab": {
          "base_uri": "https://localhost:8080/"
        },
        "id": "g6oNgtIXgO2G",
        "outputId": "c6b4af7d-c1ec-48c3-f10f-b632c0436147"
      },
      "source": [
        "# clone repo and install dependences\n",
        "!pip install --upgrade --no-cache-dir gdown\n",
        "from IPython.display import clear_output\n",
        "!git clone https://github.com/siidev/StyleMapGAN.git\n",
        "%cd StyleMapGAN/\n",
        "!pip install ninja\n",
        "!pip install flask-ngrok\n",
        "!pip install scikit-image==0.16.2\n",
        "clear_output()\n",
        "print('Done!')"
      ],
      "execution_count": null,
      "outputs": [
        {
          "output_type": "stream",
          "name": "stdout",
          "text": [
            "Done!\n"
          ]
        }
      ]
    },
    {
      "cell_type": "code",
      "metadata": {
        "colab": {
          "base_uri": "https://localhost:8080/"
        },
        "id": "MBgVJK93gR_M",
        "outputId": "964666f2-3f13-470d-994b-c26f9d58afd1"
      },
      "source": [
        "# download lmdb data\n",
        "!gdown --id 1J1bWS1C51NV7VrQX8R9xR1XNd6P5jD1c \n",
        "!unzip vn_celeb.zip"
      ],
      "execution_count": null,
      "outputs": [
        {
          "output_type": "stream",
          "name": "stdout",
          "text": [
            "/usr/local/lib/python3.7/dist-packages/gdown/cli.py:131: FutureWarning: Option `--id` was deprecated in version 4.3.1 and will be removed in 5.0. You don't need to pass it anymore to use a file ID.\n",
            "  category=FutureWarning,\n",
            "Downloading...\n",
            "From: https://drive.google.com/uc?id=1J1bWS1C51NV7VrQX8R9xR1XNd6P5jD1c\n",
            "To: /content/StyleMapGAN/vn_celeb.zip\n",
            "100% 268M/268M [00:02<00:00, 112MB/s]\n",
            "Archive:  vn_celeb.zip\n",
            "   creating: lmdb-data/\n",
            "   creating: lmdb-data/vn_celeb/\n",
            "   creating: lmdb-data/vn_celeb/test/\n",
            "  inflating: lmdb-data/vn_celeb/test/data.mdb  \n",
            "  inflating: lmdb-data/vn_celeb/test/lock.mdb  \n",
            "   creating: lmdb-data/vn_celeb/train/\n",
            "  inflating: lmdb-data/vn_celeb/train/data.mdb  \n",
            "  inflating: lmdb-data/vn_celeb/train/lock.mdb  \n",
            "   creating: lmdb-data/vn_celeb/val/\n",
            "  inflating: lmdb-data/vn_celeb/val/data.mdb  \n",
            "  inflating: lmdb-data/vn_celeb/val/lock.mdb  \n"
          ]
        }
      ]
    },
    {
      "cell_type": "code",
      "metadata": {
        "colab": {
          "base_uri": "https://localhost:8080/"
        },
        "id": "h9qoXtCTgfeT",
        "outputId": "8d80e23c-384a-4214-f72d-a005ffe0a93e"
      },
      "source": [
        "# prepare fid\n",
        "import gdown\n",
        "import os\n",
        "\n",
        "url = 'https://drive.google.com/uc?id=1pCr4lNCON7IZcNVdskIDXhFJ3jYuge1w' # inception checkpoint\n",
        "output = 'metrics/pt_inception-2015-12-05-6726825d.pth'\n",
        "gdown.download(url, output, quiet=False)\n",
        "\n",
        "url = 'https://drive.google.com/uc?id=1dMHaNkgIy_-cq70f6nqoQsfG9-aOTpSC' # random generated samples as pickle files\n",
        "output = 'fid_stats.zip'\n",
        "gdown.download(url, output, quiet=False)\n",
        "!unzip fid_stats.zip"
      ],
      "execution_count": null,
      "outputs": [
        {
          "output_type": "stream",
          "name": "stderr",
          "text": [
            "Downloading...\n",
            "From: https://drive.google.com/uc?id=1pCr4lNCON7IZcNVdskIDXhFJ3jYuge1w\n",
            "To: /content/StyleMapGAN/metrics/pt_inception-2015-12-05-6726825d.pth\n",
            "100%|██████████| 95.6M/95.6M [00:00<00:00, 209MB/s]\n",
            "Downloading...\n",
            "From: https://drive.google.com/uc?id=1dMHaNkgIy_-cq70f6nqoQsfG9-aOTpSC\n",
            "To: /content/StyleMapGAN/fid_stats.zip\n",
            "100%|██████████| 96.3M/96.3M [00:01<00:00, 68.1MB/s]\n"
          ]
        },
        {
          "output_type": "stream",
          "name": "stdout",
          "text": [
            "Archive:  fid_stats.zip\n",
            "   creating: metrics/fid_stats/\n",
            "  inflating: metrics/fid_stats/celeba_hq_stats_256_29000.pkl  \n",
            "  inflating: metrics/fid_stats/afhq_stats_256_15130.pkl  \n",
            "  inflating: metrics/fid_stats/vn_celeb_stats_128_22105.pkl  \n"
          ]
        }
      ]
    },
    {
      "cell_type": "code",
      "metadata": {
        "id": "dT4Ke1bjgkEC",
        "colab": {
          "base_uri": "https://localhost:8080/"
        },
        "outputId": "a746f4f8-5ec2-4629-818e-edc88ff954b5"
      },
      "source": [
        "# download checkpoint\n",
        "checkpoint = '200000.pt'\n",
        "!gdown --id 1SHCwwyOnJUpk4N8fCNARXHKqG3HqSEDK"
      ],
      "execution_count": null,
      "outputs": [
        {
          "output_type": "stream",
          "name": "stdout",
          "text": [
            "/usr/local/lib/python3.7/dist-packages/gdown/cli.py:131: FutureWarning: Option `--id` was deprecated in version 4.3.1 and will be removed in 5.0. You don't need to pass it anymore to use a file ID.\n",
            "  category=FutureWarning,\n",
            "Downloading...\n",
            "From: https://drive.google.com/uc?id=1SHCwwyOnJUpk4N8fCNARXHKqG3HqSEDK\n",
            "To: /content/StyleMapGAN/200000.pt\n",
            "100% 1.02G/1.02G [00:09<00:00, 111MB/s]\n"
          ]
        }
      ]
    },
    {
      "cell_type": "code",
      "metadata": {
        "colab": {
          "base_uri": "https://localhost:8080/"
        },
        "id": "qsRMwzz9tCUO",
        "outputId": "e4f476fc-c38b-42c9-de63-3a970c023d88"
      },
      "source": [
        "# Reconstruction\n",
        "!python generate.py --ckpt {checkpoint} --mixing_type reconstruction --test_lmdb lmdb-data/vn_celeb/test\n",
        "!python -m metrics.reconstruction --image_folder_path expr/reconstruction/vn_celeb"
      ],
      "execution_count": null,
      "outputs": [
        {
          "output_type": "stream",
          "name": "stdout",
          "text": [
            "Namespace(batch=16, batch_per_gpu=8, channel_multiplier=2, ckpt='378000.pt', d_reg_every=16, dataset='vn_celeb', iter=1400000, lambda_adv_loss=1, lambda_d_loss=1, lambda_indomainGAN_D_loss=1, lambda_indomainGAN_E_loss=1, lambda_perceptual_loss=1, lambda_w_rec_loss=1, lambda_x_rec_loss=1, latent_channel_size=64, latent_spatial_size=8, local_editing_part=None, lr=0.002, lr_mul=0.01, mapping_layer_num=8, mixing_type='reconstruction', ngpus=1, normalize_mode='LayerNorm', num_workers=10, r1=10, save_image_dir='expr', save_network_interval=2000, size=128, small_generator=True, start_iter=368000, test_lmdb='lmdb-data/vn_celeb/test', train_data='lmdb-data/vn_celeb/train', val_data='lmdb-data/vn_celeb/val')\n",
            "/usr/local/lib/python3.7/dist-packages/torch/utils/data/dataloader.py:481: UserWarning: This DataLoader will create 10 worker processes in total. Our suggested max number of worker in current system is 2, which is smaller than what this DataLoader is going to create. Please be aware that excessive worker creation might get DataLoader running slow or even freeze, lower the worker number to avoid potential slowness/freeze if necessary.\n",
            "  cpuset_checked))\n",
            "  0% 0/32 [00:00<?, ?it/s]/usr/local/lib/python3.7/dist-packages/torchvision/utils.py:50: UserWarning: range will be deprecated, please use value_range instead.\n",
            "  warnings.warn(warning)\n",
            "100% 32/32 [01:28<00:00,  2.77s/it]\n",
            "Total reconstruction time: 1.2251484394073486\n",
            "/usr/local/lib/python3.7/dist-packages/torch/nn/_reduction.py:42: UserWarning: size_average and reduce args will be deprecated, please use reduction='mean' instead.\n",
            "  warnings.warn(warning.format(ret))\n",
            "Setting up Perceptual loss...\n",
            "Downloading: \"https://download.pytorch.org/models/vgg16-397923af.pth\" to /root/.cache/torch/hub/checkpoints/vgg16-397923af.pth\n",
            "100% 528M/528M [00:04<00:00, 127MB/s]\n",
            "Loading model from: /content/StyleMapGAN/training/lpips/weights/v0.1/vgg.pth\n",
            "...[net-lin [vgg]] initialized\n",
            "...Done\n",
            "expr/reconstruction/vn_celeb\n",
            "500 500\n",
            "Mean MSE: 0.010645547373685987\n",
            "Mean LPIPS: 0.14334009183943272\n"
          ]
        }
      ]
    },
    {
      "cell_type": "code",
      "metadata": {
        "colab": {
          "base_uri": "https://localhost:8080/"
        },
        "id": "zWYmHOzbBzgC",
        "outputId": "a1f179ad-2ee9-422f-c210-82db161ccf1c"
      },
      "source": [
        "# !python -m metrics.fid --generated_image_path lmdb-data/vn_celeb/train --dataset vn_celeb --size 128\n",
        "!python -m metrics.fid --ckpt {checkpoint} --comparative_fid_pkl metrics/fid_stats/vn_celeb_stats_128_22105.pkl --size 128 --dataset vn_celeb"
      ],
      "execution_count": null,
      "outputs": [
        {
          "output_type": "stream",
          "name": "stdout",
          "text": [
            "/usr/local/lib/python3.7/dist-packages/torchvision/models/inception.py:83: FutureWarning: The default weight initialization of inception_v3 will be changed in future releases of torchvision. If you wish to keep the old behavior (which leads to long initialization times due to scipy/scipy#11299), please set init_weights=True.\n",
            "  ' due to scipy/scipy#11299), please set init_weights=True.', FutureWarning)\n",
            "  0% 0/1382 [00:00<?, ?it/s]/usr/local/lib/python3.7/dist-packages/torch/nn/functional.py:3635: UserWarning: Default upsampling behavior when mode=bilinear is changed to align_corners=False since 0.4.0. Please specify align_corners=True if the old behavior is desired. See the documentation of nn.Upsample for details.\n",
            "  \"See the documentation of nn.Upsample for details.\".format(mode)\n",
            "100% 1382/1382 [34:26<00:00,  1.50s/it]\n",
            "extracted 22105 features\n",
            "fid: 8.013711098501972\n"
          ]
        }
      ]
    },
    {
      "cell_type": "code",
      "source": [
        "# Reconstruction\n",
        "!python generate.py --ckpt {checkpoint} --mixing_type reconstruction --test_lmdb lmdb-data/vn_celeb/test\n",
        "!python -m metrics.reconstruction --image_folder_path expr/reconstruction/vn_celeb\n",
        "!python -m metrics.fid --ckpt {checkpoint} --comparative_fid_pkl metrics/fid_stats/vn_celeb_stats_128_22105.pkl --size 128 --dataset vn_celeb"
      ],
      "metadata": {
        "colab": {
          "base_uri": "https://localhost:8080/"
        },
        "id": "XW8n0fnyjm4J",
        "outputId": "8ccf401e-0f02-4191-b0ec-9a80a1806b5c"
      },
      "execution_count": null,
      "outputs": [
        {
          "output_type": "stream",
          "name": "stdout",
          "text": [
            "Namespace(batch=16, batch_per_gpu=8, channel_multiplier=2, ckpt='200000.pt', d_reg_every=16, dataset='vn_celeb', iter=1400000, lambda_adv_loss=1, lambda_d_loss=1, lambda_indomainGAN_D_loss=1, lambda_indomainGAN_E_loss=1, lambda_perceptual_loss=1, lambda_w_rec_loss=1, lambda_x_rec_loss=1, latent_channel_size=64, latent_spatial_size=8, local_editing_part=None, lr=0.002, lr_mul=0.01, mapping_layer_num=8, mixing_type='reconstruction', ngpus=1, normalize_mode='LayerNorm', num_workers=10, r1=10, save_image_dir='expr', save_network_interval=2000, size=128, small_generator=True, start_iter=192000, test_lmdb='lmdb-data/vn_celeb/test', train_data='lmdb-data/vn_celeb/train', val_data='lmdb-data/vn_celeb/val')\n",
            "/usr/local/lib/python3.7/dist-packages/torch/utils/data/dataloader.py:481: UserWarning: This DataLoader will create 10 worker processes in total. Our suggested max number of worker in current system is 2, which is smaller than what this DataLoader is going to create. Please be aware that excessive worker creation might get DataLoader running slow or even freeze, lower the worker number to avoid potential slowness/freeze if necessary.\n",
            "  cpuset_checked))\n",
            "  0% 0/32 [00:00<?, ?it/s]/usr/local/lib/python3.7/dist-packages/torchvision/utils.py:50: UserWarning: range will be deprecated, please use value_range instead.\n",
            "  warnings.warn(warning)\n",
            "100% 32/32 [01:27<00:00,  2.75s/it]\n",
            "Total reconstruction time: 1.0593962669372559\n",
            "/usr/local/lib/python3.7/dist-packages/torch/nn/_reduction.py:42: UserWarning: size_average and reduce args will be deprecated, please use reduction='mean' instead.\n",
            "  warnings.warn(warning.format(ret))\n",
            "Setting up Perceptual loss...\n",
            "Loading model from: /content/StyleMapGAN/training/lpips/weights/v0.1/vgg.pth\n",
            "...[net-lin [vgg]] initialized\n",
            "...Done\n",
            "expr/reconstruction/vn_celeb\n",
            "500 500\n",
            "Mean MSE: 0.015305539328139276\n",
            "Mean LPIPS: 0.16828907249867917\n",
            "/usr/local/lib/python3.7/dist-packages/torchvision/models/inception.py:83: FutureWarning: The default weight initialization of inception_v3 will be changed in future releases of torchvision. If you wish to keep the old behavior (which leads to long initialization times due to scipy/scipy#11299), please set init_weights=True.\n",
            "  ' due to scipy/scipy#11299), please set init_weights=True.', FutureWarning)\n",
            "  0% 0/1382 [00:00<?, ?it/s]/usr/local/lib/python3.7/dist-packages/torch/nn/functional.py:3635: UserWarning: Default upsampling behavior when mode=bilinear is changed to align_corners=False since 0.4.0. Please specify align_corners=True if the old behavior is desired. See the documentation of nn.Upsample for details.\n",
            "  \"See the documentation of nn.Upsample for details.\".format(mode)\n",
            "100% 1382/1382 [34:33<00:00,  1.50s/it]\n",
            "extracted 22105 features\n",
            "fid: 6.856254953258656\n"
          ]
        }
      ]
    },
    {
      "cell_type": "code",
      "source": [
        "!python generate.py --ckpt {checkpoint} --mixing_type local_editing --test_lmdb lmdb-data/vn_celeb/test\n",
        "!python -m metrics.local_editing --data_dir expr/local_editing/vn_celeb"
      ],
      "metadata": {
        "id": "0xNFfRbWv3Ab",
        "colab": {
          "base_uri": "https://localhost:8080/"
        },
        "outputId": "d4371b3e-4f97-4796-c1e8-8fd452ca78c5"
      },
      "execution_count": null,
      "outputs": [
        {
          "output_type": "stream",
          "name": "stdout",
          "text": [
            "Namespace(batch=16, batch_per_gpu=8, channel_multiplier=2, ckpt='200000.pt', d_reg_every=16, dataset='vn_celeb', iter=1400000, lambda_adv_loss=1, lambda_d_loss=1, lambda_indomainGAN_D_loss=1, lambda_indomainGAN_E_loss=1, lambda_perceptual_loss=1, lambda_w_rec_loss=1, lambda_x_rec_loss=1, latent_channel_size=64, latent_spatial_size=8, local_editing_part=None, lr=0.002, lr_mul=0.01, mapping_layer_num=8, mixing_type='local_editing', ngpus=1, normalize_mode='LayerNorm', num_workers=10, r1=10, save_image_dir='expr', save_network_interval=2000, size=128, small_generator=True, start_iter=192000, test_lmdb='lmdb-data/vn_celeb/test', train_data='lmdb-data/vn_celeb/train', val_data='lmdb-data/vn_celeb/val')\n",
            "/usr/local/lib/python3.7/dist-packages/torch/utils/data/dataloader.py:481: UserWarning: This DataLoader will create 10 worker processes in total. Our suggested max number of worker in current system is 2, which is smaller than what this DataLoader is going to create. Please be aware that excessive worker creation might get DataLoader running slow or even freeze, lower the worker number to avoid potential slowness/freeze if necessary.\n",
            "  cpuset_checked))\n",
            "100% 32/32 [00:40<00:00,  1.25s/it]\n",
            "  0% 0/500 [00:00<?, ?it/s]/usr/local/lib/python3.7/dist-packages/torchvision/utils.py:50: UserWarning: range will be deprecated, please use value_range instead.\n",
            "  warnings.warn(warning)\n",
            " 50% 250/500 [01:48<01:48,  2.31it/s]\n",
            "parts ['']\n",
            "\n",
            "/usr/local/lib/python3.7/dist-packages/torch/utils/data/dataloader.py:481: UserWarning: This DataLoader will create 10 worker processes in total. Our suggested max number of worker in current system is 2, which is smaller than what this DataLoader is going to create. Please be aware that excessive worker creation might get DataLoader running slow or even freeze, lower the worker number to avoid potential slowness/freeze if necessary.\n",
            "  cpuset_checked))\n",
            "100% 63/63 [00:04<00:00, 15.64it/s]\n",
            "0.030, 0.029\n",
            "average in inMSE_ref, outMSE_src\n",
            "0.030, 0.029\n"
          ]
        }
      ]
    },
    {
      "cell_type": "code",
      "source": [],
      "metadata": {
        "colab": {
          "base_uri": "https://localhost:8080/"
        },
        "id": "ypY3cLYOI5ur",
        "outputId": "60b15157-b3bd-4587-82fa-9bc61014f76a"
      },
      "execution_count": null,
      "outputs": [
        {
          "output_type": "stream",
          "name": "stdout",
          "text": [
            "parts ['']\n",
            "\n",
            "/usr/local/lib/python3.7/dist-packages/torch/utils/data/dataloader.py:481: UserWarning: This DataLoader will create 10 worker processes in total. Our suggested max number of worker in current system is 2, which is smaller than what this DataLoader is going to create. Please be aware that excessive worker creation might get DataLoader running slow or even freeze, lower the worker number to avoid potential slowness/freeze if necessary.\n",
            "  cpuset_checked))\n",
            "100% 63/63 [00:04<00:00, 15.57it/s]\n",
            "0.030, 0.029\n",
            "average in inMSE_ref, outMSE_src\n",
            "0.030, 0.029\n"
          ]
        }
      ]
    },
    {
      "cell_type": "code",
      "source": [],
      "metadata": {
        "id": "-jaOfglhN7bX"
      },
      "execution_count": null,
      "outputs": []
    }
  ]
}